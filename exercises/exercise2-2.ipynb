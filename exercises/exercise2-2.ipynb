{
  "cells": [
    {
      "cell_type": "raw",
      "metadata": {},
      "source": [
        "---\n",
        "title: \"Data cleaning\"\n",
        "format: \n",
        "  html:\n",
        "    echo: true\n",
        "    eval: false \n",
        "---"
      ],
      "id": "98d0730a"
    },
    {
      "cell_type": "code",
      "metadata": {},
      "source": [
        "#| label: fig-plot\n",
        "#| fig-cap: Plot\n",
        "\n",
        "import matplotlib.pyplot as plt\n",
        "plt.plot([1,23,2,4])\n",
        "plt.show()"
      ],
      "id": "fig-plot",
      "execution_count": null,
      "outputs": []
    },
    {
      "cell_type": "markdown",
      "metadata": {},
      "source": [
        "For example, see @fig-plot."
      ],
      "id": "a26156d2"
    }
  ],
  "metadata": {
    "kernelspec": {
      "name": "python3",
      "language": "python",
      "display_name": "Python 3 (ipykernel)"
    }
  },
  "nbformat": 4,
  "nbformat_minor": 5
}