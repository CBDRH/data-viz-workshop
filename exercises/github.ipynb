{
  "cells": [
    {
      "cell_type": "raw",
      "metadata": {},
      "source": [
        "---\n",
        "title: \"Getting started with git and GitHub\"\n",
        "format:\n",
        "  html:\n",
        "    css: ../custom.scss\n",
        "    execute:\n",
        "    echo: true\n",
        "    eval: false \n",
        "---"
      ],
      "id": "305e9a25"
    },
    {
      "cell_type": "markdown",
      "metadata": {},
      "source": [
        "1. Create a personal copy of the Exercises Repo\n",
        "\n",
        "\n",
        "\n",
        "\n",
        "\n",
        "```{md}\n",
        "#| filename: 0-practice-git-workflow.txt\n",
        "\n",
        "# My favourite snack\n",
        "```"
      ],
      "id": "1467d8bc"
    }
  ],
  "metadata": {
    "kernelspec": {
      "name": "python3",
      "language": "python",
      "display_name": "Python 3 (ipykernel)"
    }
  },
  "nbformat": 4,
  "nbformat_minor": 5
}